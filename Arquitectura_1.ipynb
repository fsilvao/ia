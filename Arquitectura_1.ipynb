{
  "nbformat": 4,
  "nbformat_minor": 0,
  "metadata": {
    "colab": {
      "provenance": [],
      "include_colab_link": true
    },
    "kernelspec": {
      "name": "python3",
      "display_name": "Python 3"
    },
    "language_info": {
      "name": "python"
    }
  },
  "cells": [
    {
      "cell_type": "markdown",
      "metadata": {
        "id": "view-in-github",
        "colab_type": "text"
      },
      "source": [
        "<a href=\"https://colab.research.google.com/github/fsilvao/ia/blob/main/Arquitectura_1.ipynb\" target=\"_parent\"><img src=\"https://colab.research.google.com/assets/colab-badge.svg\" alt=\"Open In Colab\"/></a>"
      ]
    },
    {
      "cell_type": "code",
      "execution_count": null,
      "metadata": {
        "id": "IXniH3ZkH4Yu"
      },
      "outputs": [],
      "source": [
        "import math\n",
        "import torch\n",
        "import torch.nn as nn\n",
        "import numpy as np\n",
        "\n",
        "\n",
        "class Generador(nn.Module):\n",
        "  def __init__(self, input_length: int):\n",
        "    super(Generador, self).__init__()\n",
        "    self.dense_layer = #1.- Una capa fully connected con una entrada y salida determinada por la longitud del input\n",
        "    self.activation = #2.- función de activación sigmoidea\n",
        "\n",
        "  def forward(self,x):\n",
        "    return #3.- Retorna el resultado de aplicar la función de activación sobre la salida de la capa densa\n",
        "\n",
        "\n",
        "class Discriminador(nn.Module):\n",
        "  def __init__(self, input_length:int):\n",
        "    super(Discriminador, self).__init__()\n",
        "    self.dense = #4.- Una capa fully connected con una entrada determinada por la longitud del input, y una salida correspondiente a la clasificación de la entrada\n",
        "    self.activation =#5.- función de activación sigmoidea\n",
        "\n",
        "  def forward(self,x):\n",
        "    return #6.- Retorna el resultado de aplicar la función de activación sobre la salida de la capa densa\n",
        "\n",
        "\n"
      ]
    }
  ]
}